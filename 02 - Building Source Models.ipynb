{
 "cells": [
  {
   "cell_type": "code",
   "execution_count": 1,
   "metadata": {},
   "outputs": [],
   "source": [
    "%load_ext autoreload\n",
    "%autoreload\n",
    "import warnings; warnings.filterwarnings('ignore')"
   ]
  },
  {
   "cell_type": "code",
   "execution_count": 2,
   "metadata": {},
   "outputs": [],
   "source": [
    "%matplotlib inline\n",
    "# Python dependences\n",
    "import os, time\n",
    "import pandas as pd\n",
    "import numpy as np   # Numpy - Python's numerical library\n",
    "import matplotlib.pyplot as plt  # Matplotlib - Python's plotting library\n",
    "from copy import deepcopy   # Python module for copying objects\n",
    "\n",
    "# Input and Output Tools\n",
    "# Catalogue and sources \n",
    "from openquake.hmtk.parsers.catalogue import CsvCatalogueParser   # Reads an earthquake catalogue from CSV\n",
    "from openquake.hmtk.parsers.catalogue.csv_catalogue_parser import CsvCatalogueWriter  # Writes an earthquake catalogue to CSV\n",
    "from openquake.hmtk.parsers.source_model.nrml04_parser import nrmlSourceModelParser  # Imports a source model from XML\n",
    "\n",
    "# Completeness tools\n",
    "from openquake.hmtk.seismicity.completeness.comp_stepp_1971 import Stepp1971\n",
    "\n",
    "# Plotting tools\n",
    "from openquake.hmtk.plotting.seismicity.completeness import plot_stepp_1972\n",
    "from openquake.hmtk.plotting.seismicity.catalogue_plots import plot_magnitude_time_scatter\n",
    "from openquake.hmtk.plotting.seismicity.catalogue_plots import plot_depth_histogram\n",
    "from openquake.hmtk.plotting.seismicity.catalogue_plots import plot_magnitude_time_density\n",
    "from openquake.hmtk.plotting.seismicity.max_magnitude.cumulative_moment import plot_cumulative_moment \n",
    "from openquake.hmtk.plotting.seismicity.occurrence.recurrence_plot import plot_recurrence_model\n",
    "from openquake.hmtk.plotting.seismicity.catalogue_plots import (plot_observed_recurrence, \n",
    "                                                      get_completeness_adjusted_table,\n",
    "                                                      _get_catalogue_bin_limits)\n",
    "\n",
    "# Recurrence and Mmax\n",
    "from openquake.hmtk.seismicity.occurrence.kijko_smit import KijkoSmit\n",
    "from openquake.hmtk.seismicity.occurrence.weichert import Weichert\n",
    "from openquake.hmtk.seismicity.max_magnitude.kijko_sellevol_bayes import KijkoSellevolBayes\n",
    "from openquake.hmtk.seismicity.max_magnitude.kijko_sellevol_fixed_b import KijkoSellevolFixedb\n",
    "from openquake.hmtk.seismicity.max_magnitude.kijko_nonparametric_gaussian import KijkoNonParametricGaussian\n",
    "from openquake.hmtk.seismicity.max_magnitude.cumulative_moment_release import CumulativeMoment\n",
    "from openquake.hmtk.plotting.seismicity.max_magnitude.cumulative_moment import plot_cumulative_moment\n",
    "\n",
    "# Catalogue selector - we will see this in action\n",
    "from openquake.hmtk.seismicity.selector import CatalogueSelector\n",
    "\n",
    "from openquake.hazardlib.mfd import TruncatedGRMFD"
   ]
  },
  {
   "cell_type": "code",
   "execution_count": 3,
   "metadata": {},
   "outputs": [],
   "source": [
    "Depth = \"Shallow\" # Select if for 'Shallow', 'MidCrust', or 'Deep'"
   ]
  },
  {
   "cell_type": "code",
   "execution_count": 8,
   "metadata": {},
   "outputs": [
    {
     "name": "stdout",
     "output_type": "stream",
     "text": [
      "Number of mainshocks from Shallow sources: 11282\n"
     ]
    }
   ],
   "source": [
    "output_dir = r'C:\\Users\\AMH-L91\\Documents\\Projects\\openquake-notebooks\\output_data'\n",
    "catalogue_file = os.path.join(output_dir, \"Overall_Seismicity_Dec_2024.09.17.csv\")\n",
    "\n",
    "parser = CsvCatalogueParser(catalogue_file)\n",
    "catalogue = parser.read_file(start_year=1619)\n",
    "\n",
    "if Depth == 'Shallow':\n",
    "    catalogue.purge_catalogue(catalogue.data['depth'] <= 50)\n",
    "    \n",
    "elif Depth == 'MidCrust':\n",
    "    catalogue.purge_catalogue(catalogue.data['depth'] > 50 and \n",
    "                              catalogue.data['depth'] <= 100)\n",
    "elif Depth == 'Deep':\n",
    "    catalogue.purge_catalogue(catalogue.data['depth'] > 100)\n",
    "\n",
    "print(f'Number of mainshocks from {Depth} sources: {catalogue.get_number_events()}')"
   ]
  },
  {
   "cell_type": "markdown",
   "metadata": {},
   "source": [
    "# Load in a Source Model File"
   ]
  },
  {
   "cell_type": "code",
   "execution_count": 5,
   "metadata": {},
   "outputs": [],
   "source": [
    "dir_path = r'C:\\Users\\AMH-L91\\Documents\\Projects\\openquake-notebooks\\input_data'\n",
    "source_model_file = os.path.join(dir_path, \"AreaSource_\" + Depth + \".xml\")\n",
    "\n",
    "parser = nrmlSourceModelParser(source_model_file)\n",
    "\n",
    "# Parse the seismic sources and save them into a variable called \"source_model\"\n",
    "source_model = parser.read_file(\"AreaSource_\" + Depth) # You need to supply a name for the source model"
   ]
  },
  {
   "cell_type": "markdown",
   "metadata": {},
   "source": [
    "### A Source Model Workflow - Area Source Example"
   ]
  },
  {
   "cell_type": "markdown",
   "metadata": {},
   "source": [
    "Each of the area sources has:\n",
    "\n",
    "1. Defined name, ID, tectonic region type\n",
    "\n",
    "2. Geometry (polygon)\n",
    "\n",
    "3. Magnitude Scaling Relation (Wells & Coppersmith, 1994)\n",
    "\n",
    "4. Rupture Aspect Ratio (1.5)\n",
    "\n",
    "5. Nodal Plane Distribution (varies)\n",
    "\n",
    "\n",
    "But they are missing the magnitude frequency distribution and the hypocentral depth distribution!\n",
    "\n",
    "Using the observed catalogue - define the MFD as a Truncated Gutenberg-Richer model for each source\n",
    "\n",
    "Assume $M_{MIN} = 4.8$"
   ]
  },
  {
   "cell_type": "markdown",
   "metadata": {},
   "source": [
    "### Completeness of Sub-Catalog"
   ]
  },
  {
   "cell_type": "code",
   "execution_count": null,
   "metadata": {},
   "outputs": [],
   "source": [
    "# Set up the configuration parameters\n",
    "comp_config = {'magnitude_bin': 0.5, 'time_bin': 5.0, 'increment_lock': True}\n",
    "\n",
    "# Calling the method by Stepp (1971)\n",
    "completeness_algorithm = Stepp1971()\n",
    "\n",
    "# Use the catalogue and completeness configuration\n",
    "completeness_table = completeness_algorithm.completeness(catalogue, comp_config)\n",
    "print('Completeness: ok')\n",
    "\n",
    "# Print the completeness table\n",
    "print('\\n')\n",
    "print('Completeness table using Stepp method (1971)')\n",
    "print(completeness_table)\n",
    "print('\\n')\n",
    "\n",
    "# Setting configuration for the completeness plot\n",
    "completeness_parameters = completeness_algorithm\n",
    "\n",
    "output_file = os.path.join(output_dir, Depth + \"_Completeness_Overall_Plot.png\")\n",
    "if os.path.exists(output_file):\n",
    "    os.remove(output_file)\n",
    "\n",
    "plot_stepp_1972.create_stepp_plot(completeness_parameters, figure_size=(8, 6), \n",
    "                                  filename=output_file, filetype='png', dpi=300, ax=None)"
   ]
  },
  {
   "cell_type": "code",
   "execution_count": 8,
   "metadata": {},
   "outputs": [],
   "source": [
    "# Trim catalogue for plotting purposes only\n",
    "cat_dec_plot = deepcopy(catalogue)\n",
    "cat_years = cat_dec_plot.data['year']\n",
    "cat_mon = cat_dec_plot.data['month']\n",
    "cat_day = cat_dec_plot.data['day']\n",
    "cat_hr = cat_dec_plot.data['hour']\n",
    "cat_min = cat_dec_plot.data['minute']\n",
    "cat_sec = cat_dec_plot.data['second']\n",
    "cat_mags = cat_dec_plot.data['magnitude']\n",
    "\n",
    "cat_recent_years = cat_years >= 1900\n",
    "cat_dec_plot.data['year'] = cat_years[cat_recent_years]\n",
    "cat_dec_plot.data['month'] = cat_mon[cat_recent_years]\n",
    "cat_dec_plot.data['day'] = cat_day[cat_recent_years]\n",
    "cat_dec_plot.data['hour'] = cat_hr[cat_recent_years]\n",
    "cat_dec_plot.data['minute'] = cat_min[cat_recent_years]\n",
    "cat_dec_plot.data['second'] = cat_sec[cat_recent_years]\n",
    "cat_dec_plot.data['magnitude'] = cat_mags[cat_recent_years]"
   ]
  },
  {
   "cell_type": "code",
   "execution_count": null,
   "metadata": {},
   "outputs": [],
   "source": [
    "comp_tables = {\n",
    "    'Shallow': np.array([[1980., 4.8],\n",
    "                         [1964., 5.0],\n",
    "                         [1955., 5.5],\n",
    "                         [1945., 6.0],\n",
    "                         [1930., 6.5],\n",
    "                         [1920., 7.0],\n",
    "                         [1863., 7.5],\n",
    "                         [1619., 8.2]]),\n",
    "    'MidCrust': np.array([[1976., 4.8],\n",
    "                         [1963., 5.0],\n",
    "                         [1957., 5.9],\n",
    "                         [1949., 6.6],\n",
    "                         [1903., 7.0],\n",
    "                         [1884., 7.2],\n",
    "                         [1852., 7.6]]),\n",
    "    'Deep': np.array([[1986., 4.8],\n",
    "                     [1963., 5.5],\n",
    "                     [1871., 7.0]])\n",
    "}\n",
    "\n",
    "completeness_table_a = comp_tables[Depth]\n",
    "\n",
    "plot_magnitude_time_density(cat_dec_plot, 0.1, 1.0,\n",
    "                            completeness=completeness_table_a)\n",
    "\n",
    "min_mag = 4.8\n",
    "\n",
    "selector1 = CatalogueSelector(catalogue, create_copy=True)"
   ]
  },
  {
   "cell_type": "markdown",
   "metadata": {},
   "source": [
    "In the following workflow we will, for each source:\n",
    "\n",
    "1. Select the earthquakes within the source\n",
    "\n",
    "2. Plot them on a map\n",
    "\n",
    "3. Use them to calculate a- and b-value from the Weichert (1980) method\n",
    "\n",
    "4. Estimate Mmax using the cumulative moment method (plus a small offset)\n",
    "\n",
    "5. View the hypocentral depth distribution - and use the density to define the hypocentral depth distribution for the source"
   ]
  },
  {
   "cell_type": "code",
   "execution_count": null,
   "metadata": {},
   "outputs": [],
   "source": [
    "# Add to dictionary the source models where hypodepth dists are to be added/updated\n",
    "IdDict = {\n",
    "    'Shallow': ['1','2','3','4','5','6C','8','9'],\n",
    "    'MidCrust': ['11AB','11C','12','13A'],\n",
    "    'Deep': ['14BC','15A']\n",
    "}\n",
    "IdList = IdDict[Depth]\n",
    "\n",
    "df_gr = pd.DataFrame(columns=['Zone', 'Source', 'Type', 'a', 'sigma_a', 'b', 'sigma_b'])\n",
    "\n",
    "for source in source_model.sources:\n",
    "\n",
    "    print ('----------------------------------------------------------------------------------------------------')\n",
    "    # Select the earthquakes within the source\n",
    "    source.select_catalogue(selector1)\n",
    "    print(\"Source ID: %s  Source Name: %s   Tectonic Region: %s   Number of Events: %g\" % (source.id, \n",
    "                                                                                           source.name, \n",
    "                                                                                           source.trt,\n",
    "                                                                                        source.catalogue.get_number_events()))\n",
    "\n",
    "    # Get the a- and b-value using Weichert (1980)\n",
    "    occurrence = Weichert()\n",
    "    recurrence_config = {\"magnitude_interval\": 0.1}\n",
    "    bval, sigma_b, aval, sigma_a = occurrence.calculate(source.catalogue,\n",
    "                                                        recurrence_config,\n",
    "                                                        completeness_table_a)\n",
    "    print(\"a = %.3f (+/- %.3f),  b = %.3f (+/-%.3f)\" % (aval, sigma_a, bval, sigma_b))\n",
    "    df_gr = df_gr.append({'Zone': source.id, 'Source': source.name, 'Type': source.trt, \n",
    "                          'a': aval, 'sigma_a': sigma_a, 'b': bval, 'sigma_b': sigma_b},\n",
    "                        ignore_index=True)\n",
    "    \n",
    "    # Estimate the Maximum Magnitude - using the Kijko & Smit Nonparametric Gaussian\n",
    "    mmax_config = {\"input_mmin\": 4.8, \n",
    "                   \"input_mmax\": None, \n",
    "                   \"input_uncertainty\": None,\n",
    "                   \"b-value\": bval,\n",
    "                   \"sigma-b\": sigma_b,\n",
    "                   \"number_earthquakes\": 5,\n",
    "                  }\n",
    "    \n",
    "    #mmax_config = {\n",
    "    #              \"number_bootstraps\": 1000\n",
    "    #              }\n",
    "    mmax_calculator = KijkoNonParametricGaussian()\n",
    "\n",
    "    mmax, sigma_mmax = mmax_calculator.get_mmax(source.catalogue, mmax_config)\n",
    "    print(\"Mmax (Observed) = %.2f Mmax (Inferred) = %.3f +/- %.3f\" % (\n",
    "        np.max(source.catalogue.data[\"magnitude\"]), mmax + 0.2, sigma_mmax))\n",
    "    \n",
    "    # Compare the model against data\n",
    "    source.mfd = TruncatedGRMFD(min_mag, mmax + 0.2, 0.1, aval, bval)\n",
    "    \n",
    "    plot_magnitude_time_density(source.catalogue, 0.1, 1.0)\n",
    "\n",
    "    if source.id in IdList:\n",
    "\n",
    "        # Show the depth histogram\n",
    "        if Depth == 'Deep': depth_interval = 100.\n",
    "        else: depth_interval = 25.  # in km\n",
    "        # 50-70 deep; 30 otherwise\n",
    "        \n",
    "        plot_depth_histogram(source.catalogue, depth_interval, normalisation=True)\n",
    "        plot_recurrence_model(source.mfd, source.catalogue, completeness_table_a, 0.1)\n",
    "    \n",
    "        # Add the probability mass function of the hypocentre depths to the source\n",
    "        depth_bins = np.arange(source.upper_depth,\n",
    "                               source.lower_depth + depth_interval,\n",
    "                               depth_interval)\n",
    "        source.hypo_depth_dist = source.catalogue.get_depth_pmf(depth_bins)\n",
    "        # Wait for the plotting to catch up!\n",
    "        \n",
    "        print(\"Upper Seismogenic Depth: %.2f, Lower Seismogenic Depth: %.2f\" %(source.upper_depth, source.lower_depth))\n",
    "\n",
    "    time.sleep(1.0)"
   ]
  },
  {
   "cell_type": "code",
   "execution_count": 11,
   "metadata": {},
   "outputs": [],
   "source": [
    "source_model.serialise_to_nrml(os.path.join(output_dir, \"AreaSource_\" + Depth + \".xml\"))"
   ]
  },
  {
   "cell_type": "markdown",
   "metadata": {},
   "source": [
    "Export to csv for copying"
   ]
  },
  {
   "cell_type": "code",
   "execution_count": 12,
   "metadata": {},
   "outputs": [],
   "source": [
    "df_gr.to_csv(os.path.join(output_dir, 'Area_Source_GR-Parameters_' + Depth + '.csv'), index=False)"
   ]
  },
  {
   "cell_type": "code",
   "execution_count": null,
   "metadata": {},
   "outputs": [],
   "source": []
  }
 ],
 "metadata": {
  "kernelspec": {
   "display_name": "Python 3 (ipykernel)",
   "language": "python",
   "name": "python3"
  },
  "language_info": {
   "codemirror_mode": {
    "name": "ipython",
    "version": 3
   },
   "file_extension": ".py",
   "mimetype": "text/x-python",
   "name": "python",
   "nbconvert_exporter": "python",
   "pygments_lexer": "ipython3",
   "version": "3.10.14"
  }
 },
 "nbformat": 4,
 "nbformat_minor": 1
}
